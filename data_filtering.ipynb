{
 "cells": [
  {
   "cell_type": "code",
   "execution_count": 2,
   "metadata": {},
   "outputs": [],
   "source": [
    "import numpy as np\n",
    "import pandas as pd\n",
    "import datetime"
   ]
  },
  {
   "cell_type": "code",
   "execution_count": 3,
   "metadata": {},
   "outputs": [],
   "source": [
    "circuits = pd.read_csv('data/circuits.csv')\n",
    "drivers = pd.read_csv('data/drivers.csv')\n",
    "laptimes = pd.read_csv('data/lap_times.csv')\n",
    "races = pd.read_csv('data/races.csv')\n",
    "\n",
    "races['date'] = pd.to_datetime(races['date'])"
   ]
  },
  {
   "cell_type": "code",
   "execution_count": 4,
   "metadata": {},
   "outputs": [],
   "source": [
    "mask = (races['date'] > datetime.datetime(2020, 1, 1)) & (races['date'] < datetime.datetime(2022, 12, 31))\n",
    "recent_races = races[mask]\n",
    "\n",
    "recent_circuit_ids = recent_races['circuitId']\n",
    "recent_circuits = circuits[circuits['circuitId'].isin(recent_circuit_ids)]\n",
    "\n",
    "recent_race_ids = recent_races['raceId']\n",
    "recent_laptimes = laptimes[laptimes['raceId'].isin(recent_race_ids)]\n",
    "\n",
    "recent_driver_ids = recent_laptimes['driverId'].drop_duplicates()\n",
    "recent_drivers = drivers[drivers['driverId'].isin(recent_driver_ids)]"
   ]
  },
  {
   "cell_type": "code",
   "execution_count": 5,
   "metadata": {},
   "outputs": [],
   "source": [
    "recent_races.to_csv('data/recent/recent_races.csv')\n",
    "recent_circuits.to_csv('data/recent/recent_circuits.csv')\n",
    "recent_laptimes.to_csv('data/recent/recent_laptimes.csv')\n",
    "recent_drivers.to_csv('data/recent/recent_drivers.csv')"
   ]
  }
 ],
 "metadata": {
  "kernelspec": {
   "display_name": "base",
   "language": "python",
   "name": "python3"
  },
  "language_info": {
   "codemirror_mode": {
    "name": "ipython",
    "version": 3
   },
   "file_extension": ".py",
   "mimetype": "text/x-python",
   "name": "python",
   "nbconvert_exporter": "python",
   "pygments_lexer": "ipython3",
   "version": "3.11.0"
  },
  "orig_nbformat": 4
 },
 "nbformat": 4,
 "nbformat_minor": 2
}
